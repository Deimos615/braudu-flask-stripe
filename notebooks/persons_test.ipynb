{
 "cells": [
  {
   "cell_type": "markdown",
   "metadata": {},
   "source": [
    "This notebook is for testing new ideas to improve the results in the persons page"
   ]
  },
  {
   "cell_type": "code",
   "execution_count": 7,
   "metadata": {},
   "outputs": [],
   "source": [
    "import openai, time, os, requests\n",
    "import pandas as pd\n",
    "from concurrent.futures import ThreadPoolExecutor\n",
    "from ast import literal_eval\n",
    "from typing import List, Dict, Any, Optional, Tuple\n",
    "from UnleashClient import UnleashClient\n",
    "%matplotlib inline\n",
    "\n",
    "# Import environment variables \n",
    "google_api_key = os.environ.get('GOOGLE_API_KEY')\n",
    "search_engine_id = os.environ.get('SEARCH_ENGINE_ID')\n",
    "openai.api_key = os.environ.get('OPENAI_API_KEY')\n",
    "OPENAI_API_KEY = os.environ.get('OPENAI_API_KEY')\n",
    "REQUESTS_TIMEOUT = 15\n",
    "directory = os.getcwd()\n",
    "MODEL = \"gpt-3.5-turbo\""
   ]
  },
  {
   "cell_type": "code",
   "execution_count": 5,
   "metadata": {},
   "outputs": [],
   "source": [
    "\n",
    "def refine_search_result(search_result: Dict[str, Any]) -> Optional[Dict[str, Any]]: \n",
    "    \"\"\"\n",
    "    Refine a google search result dictionary by extracting the title, link, and snippet.\n",
    "\n",
    "    Args:\n",
    "        search_result (dict): The search result dictionary to be refined.\n",
    "\n",
    "    Returns:\n",
    "        dict: A dictionary with the refined search result containing title, link, and snippet.\n",
    "    \"\"\"\n",
    "    if all([term in search_result for term in [\"title\", \"link\", \"snippet\"]]):\n",
    "        return {\n",
    "            'title': search_result['title'],\n",
    "            'link': search_result['link'],\n",
    "            'snippet': search_result['snippet']\n",
    "        }\n",
    "    else:\n",
    "        return None"
   ]
  },
  {
   "cell_type": "code",
   "execution_count": 6,
   "metadata": {},
   "outputs": [],
   "source": [
    "def perform_google_search(search_query: str) -> Optional[List[Dict[str, Any]]]:\n",
    "    \"\"\"\n",
    "    Perform a Google search using a search query and retrieve filtered search results with only title,link and snippet.\n",
    "\n",
    "    Args:\n",
    "        search_query (str): The search query to be used.\n",
    "\n",
    "    Returns:\n",
    "        list: A list of dictionaries containing refined search results with title, link, and snippet.\n",
    "    \"\"\"\n",
    "    url = f'https://www.googleapis.com/customsearch/v1?key={google_api_key}&cx={search_engine_id}&q={search_query}'\n",
    "    response = requests.get(url)\n",
    "    try:\n",
    "        data = response.json()\n",
    "        cleaned_results = [refine_search_result(i) for i in data['items']]\n",
    "        return cleaned_results\n",
    "    except Exception as e:\n",
    "        return None"
   ]
  },
  {
   "cell_type": "code",
   "execution_count": 13,
   "metadata": {},
   "outputs": [],
   "source": [
    "query = '\"data engineer\"' + \" at \" + '\"Accenture\"' + '\"Present\"' + \" site:linkedin.com/in/\"\n",
    "results = perform_google_search(query)"
   ]
  },
  {
   "cell_type": "code",
   "execution_count": 19,
   "metadata": {},
   "outputs": [],
   "source": [
    "def format_google_search_query(job_titles: List[str], company: str) -> str:\n",
    "    \"\"\"\"\n",
    "    Format the google search query using the job titles and company name.and Applying regex on it\n",
    "    Args:\n",
    "        job_titles (list): A list of job titles.\n",
    "        company (str): The company name.\n",
    "    Returns:\n",
    "        str: A formatted google search query.\n",
    "    \"\"\"\n",
    "    formatted_job_titles = []\n",
    "    for job_title in job_titles:\n",
    "        formatted_job_titles.append(f'\"{job_title}\"')\n",
    "    job_titles_statement = \" OR \".join(formatted_job_titles)\n",
    "    return f'({job_titles_statement}) at \"{company}\" site:linkedin.com/in/'"
   ]
  },
  {
   "cell_type": "code",
   "execution_count": 21,
   "metadata": {},
   "outputs": [
    {
     "name": "stdout",
     "output_type": "stream",
     "text": [
      "(\"data engineer\" OR \"data scientist\") at \"Accenture\" site:linkedin.com/in/\n"
     ]
    }
   ],
   "source": [
    "print(format_google_search_query([\"data engineer\",\"data scientist\"], \"Accenture\"))"
   ]
  },
  {
   "cell_type": "code",
   "execution_count": 8,
   "metadata": {},
   "outputs": [],
   "source": [
    "def get_synonyms_from_open_ai(job_title: str) -> Optional[Dict[str, List[str]]]:\n",
    "    \"\"\"\n",
    "    Get synonyms from OpenAI\n",
    "\n",
    "    :param job_title: job title\n",
    "    :return: synonyms\n",
    "    \"\"\"\n",
    "\n",
    "    prompt_system = f\"\"\"\n",
    "    You are a sales person trying to find as many people as possible that perform a certain role at a company. \n",
    "    You will receive a json where each key is a single job title. Respond with as many job titles that are \n",
    "    synonyms (but no more than 5) to the one received, meaning that people having those job positions perform exactly the same job or \n",
    "    their scope of tasks overlap greatly. Include acronyms too even if they duplicate Your existing suggestions.\n",
    "    Each key has empty list assigned. Fill the list with synonyms.\n",
    "    Respond in format that is json parsable. Do not explain or comment on your answer.\n",
    "    \"\"\"\n",
    "\n",
    "    headers = {\"Authorization\": f\"Bearer {OPENAI_API_KEY}\",\n",
    "               \"Content-Type\": \"application/json\"}\n",
    "    data = {\n",
    "        \"model\": MODEL,\n",
    "        \"messages\": [\n",
    "            {\n",
    "                \"role\": \"system\",\n",
    "                \"content\": prompt_system},\n",
    "            {\n",
    "                \"role\": \"user\",\n",
    "                \"content\": str(job_title)\n",
    "            }\n",
    "        ],\n",
    "        \"temperature\": 0\n",
    "    }\n",
    "\n",
    "    try:\n",
    "        response = requests.post(\"https://api.openai.com/v1/chat/completions\", headers=headers,\n",
    "                                 json=data, timeout=REQUESTS_TIMEOUT).content.decode(\"utf-8\")\n",
    "        return literal_eval(literal_eval(response)['choices'][0]['message']['content'])\n",
    "    except:\n",
    "        print(\"Timeout occurred\")\n",
    "        return None\n",
    "\n",
    "\n",
    "def verify_last_experience(experiences, company_id):\n",
    "    \"\"\"\n",
    "        Verify the last experience of a LinkedIn profile to check if the company ID is present.\n",
    "    Args:\n",
    "        experiences (list): A list of experiences from a LinkedIn profile.\n",
    "        company_id (str): The linkedin company ID to check.\n",
    "\n",
    "    Returns:\n",
    "        bool: True if the company ID is present in the last experience, False otherwise.\n",
    "    \"\"\"\n",
    "    last_experience_url = experiences[0][\"company_linkedin_profile_url\"] if experiences else None\n",
    "    if last_experience_url:\n",
    "        return company_id in last_experience_url\n",
    "    return False"
   ]
  },
  {
   "cell_type": "code",
   "execution_count": 9,
   "metadata": {},
   "outputs": [],
   "source": [
    "def get_answer_from_open_ai(job_title: str, company: str,\n",
    "                            search_results: List[Dict[str, Any]]) -> Optional[Dict[str, Any]]:\n",
    "    \"\"\"\n",
    "    Retrieve an answer from the OpenAI ChatGPT model using the provided input.\n",
    "\n",
    "    Args:\n",
    "        job_title (str): The job title to be used in the prompt.\n",
    "        company (str): The company name to be used in the prompt.\n",
    "        max_results (int): The maximum number of results\n",
    "        search_results (list): A list of dictionaries containing refined search results with title, link, and snippet.\n",
    "\n",
    "    Returns:\n",
    "        dict: A dictionary containing one of the search results as the answer.\n",
    "    \"\"\"\n",
    "    prompt_system = f\"\"\"\n",
    "    You are going to receive a list of jsons of real google search results, each with an url to a LinkedIn \n",
    "    profile, title and snippet. Your task is assign scores 1-10 to each of the profiles following mechanism:\n",
    "    1 - very unlikely to be {job_title} at {company}, 10 - very likely to be {job_title} at {company}. You can\n",
    "    assign the same score to multiple candidates.\n",
    "    Sort the profiles descending by score and return top 10.\n",
    "    Do not comment on Your answer or explain it. Your answer must be a json parsable list and each entry\n",
    "    in the format: 'Score++Full Name++Job title++LinkedIn URL'\n",
    "    \"\"\"\n",
    "\n",
    "    headers = {\"Authorization\": f\"Bearer {OPENAI_API_KEY}\",\n",
    "               \"Content-Type\": \"application/json\"}\n",
    "    data = {\n",
    "        \"model\": MODEL,\n",
    "        \"messages\": [\n",
    "            {\n",
    "                \"role\": \"system\",\n",
    "                \"content\": prompt_system},\n",
    "            {\n",
    "                \"role\": \"user\",\n",
    "                \"content\": f\"Search results: {search_results[:10]}\"\n",
    "            }\n",
    "        ],\n",
    "        \"temperature\": 0\n",
    "    }\n",
    "\n",
    "    try:\n",
    "        response = requests.post(\"https://api.openai.com/v1/chat/completions\", headers=headers,\n",
    "                                 json=data, timeout=REQUESTS_TIMEOUT).content.decode(\"utf-8\")\n",
    "        \n",
    "        response1 = literal_eval(response) ['choices'][0]['message']['content']\n",
    "        return literal_eval(response1)\n",
    "    except:\n",
    "        print(\"Timeout occurred\")\n",
    "        return None"
   ]
  },
  {
   "cell_type": "code",
   "execution_count": null,
   "metadata": {},
   "outputs": [],
   "source": []
  }
 ],
 "metadata": {
  "kernelspec": {
   "display_name": "Python 3",
   "language": "python",
   "name": "python3"
  },
  "language_info": {
   "codemirror_mode": {
    "name": "ipython",
    "version": 3
   },
   "file_extension": ".py",
   "mimetype": "text/x-python",
   "name": "python",
   "nbconvert_exporter": "python",
   "pygments_lexer": "ipython3",
   "version": "3.9.10"
  },
  "orig_nbformat": 4
 },
 "nbformat": 4,
 "nbformat_minor": 2
}
