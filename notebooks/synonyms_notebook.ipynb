{
 "cells": [
  {
   "cell_type": "markdown",
   "id": "9fcac9cc",
   "metadata": {},
   "source": [
    "# This notebook serves as a playground for synonyms work. It is used to arrive at most efficient prompting "
   ]
  },
  {
   "cell_type": "code",
   "execution_count": 2,
   "id": "5ecb2dce",
   "metadata": {},
   "outputs": [],
   "source": [
    "%reload_ext dotenv\n",
    "%dotenv ../dev.env\n",
    "\n",
    "import os\n",
    "import pandas as pd\n",
    "import requests\n",
    "from ast import literal_eval\n",
    "\n",
    "OPENAI_API_KEY = os.environ.get(\"OPENAI_API_KEY\")\n",
    "MODEL = \"gpt-3.5-turbo\""
   ]
  },
  {
   "cell_type": "code",
   "execution_count": 9,
   "id": "0d5f1fae",
   "metadata": {},
   "outputs": [],
   "source": [
    "def get_synonyms_from_open_ai(job_title):\n",
    "\n",
    "    prompt_system = f\"\"\"\n",
    "    You are a sales person trying to find as many people as possible that perform a certain role at a company. \n",
    "    You will receive a json where each key is a single job title. Respond with as many job titles that are \n",
    "    synonyms (but no more than 5) to the one received, meaning that people having those job positions perform exactly the same job or \n",
    "    their scope of tasks overlap greatly. Include acronyms too even if they duplicate Your existing suggestions.\n",
    "    Each key has empty list assigned. Fill the list with synonyms.\n",
    "    Respond in format that is json parsable. Do not explain or comment on your answer.\n",
    "    \"\"\"\n",
    "\n",
    "    headers = {\"Authorization\": f\"Bearer {OPENAI_API_KEY}\",\n",
    "               \"Content-Type\": \"application/json\"}\n",
    "    data = {\n",
    "        \"model\": MODEL,\n",
    "        \"messages\": [\n",
    "            {\n",
    "                \"role\": \"system\",\n",
    "                \"content\": prompt_system},\n",
    "            {\n",
    "                \"role\": \"user\",\n",
    "                \"content\": str(job_title)\n",
    "            }\n",
    "        ],\n",
    "        \"temperature\": 0\n",
    "    }\n",
    "\n",
    "    try:\n",
    "        response = requests.post(\"https://api.openai.com/v1/chat/completions\", headers=headers,\n",
    "                                 json=data, timeout=3).content.decode(\"utf-8\")\n",
    "        return literal_eval(literal_eval(response)['choices'][0]['message']['content'])\n",
    "    except:\n",
    "        print(\"Timeout occurred\")\n",
    "        return None"
   ]
  },
  {
   "cell_type": "code",
   "execution_count": 11,
   "id": "635da442",
   "metadata": {},
   "outputs": [
    {
     "data": {
      "text/plain": [
       "{'business developer': ['business development manager',\n",
       "  'business development executive',\n",
       "  'business development specialist',\n",
       "  'BD',\n",
       "  'biz dev']}"
      ]
     },
     "execution_count": 11,
     "metadata": {},
     "output_type": "execute_result"
    }
   ],
   "source": [
    "synonyms_input = {\"business developer\": []}\n",
    "response = get_synonyms_from_open_ai(synonyms_input)\n",
    "response"
   ]
  },
  {
   "cell_type": "code",
   "execution_count": null,
   "id": "c8eab7d7",
   "metadata": {},
   "outputs": [],
   "source": []
  },
  {
   "cell_type": "code",
   "execution_count": null,
   "id": "a4e6cd24",
   "metadata": {},
   "outputs": [],
   "source": []
  },
  {
   "cell_type": "code",
   "execution_count": null,
   "id": "85249a3d",
   "metadata": {},
   "outputs": [],
   "source": []
  }
 ],
 "metadata": {
  "kernelspec": {
   "display_name": "Python 3 (ipykernel)",
   "language": "python",
   "name": "python3"
  },
  "language_info": {
   "codemirror_mode": {
    "name": "ipython",
    "version": 3
   },
   "file_extension": ".py",
   "mimetype": "text/x-python",
   "name": "python",
   "nbconvert_exporter": "python",
   "pygments_lexer": "ipython3",
   "version": "3.10.6"
  }
 },
 "nbformat": 4,
 "nbformat_minor": 5
}
